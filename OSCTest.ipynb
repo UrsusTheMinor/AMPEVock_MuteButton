{
 "cells": [
  {
   "metadata": {},
   "cell_type": "markdown",
   "source": "## OSC SERVER",
   "id": "f7a011d057e713c9"
  },
  {
   "cell_type": "code",
   "id": "initial_id",
   "metadata": {
    "collapsed": true,
    "ExecuteTime": {
     "end_time": "2024-09-19T16:40:40.032439Z",
     "start_time": "2024-09-19T16:40:40.015930Z"
    }
   },
   "source": [
    "\"\"\"Small example OSC server\n",
    "\n",
    "This program listens to several addresses, and prints some information about\n",
    "received packets.\n",
    "\"\"\"\n",
    "import argparse\n",
    "import math\n",
    "\n",
    "from pythonosc.dispatcher import Dispatcher\n",
    "from pythonosc import osc_server\n",
    "\n",
    "def print_volume_handler(unused_addr, args, volume):\n",
    "  print(\"[{0}] ~ {1}\".format(args[0], volume))\n",
    "\n",
    "def print_compute_handler(unused_addr, args, volume):\n",
    "  try:\n",
    "    print(\"[{0}] ~ {1}\".format(args[0], args[1](volume)))\n",
    "  except ValueError: pass\n",
    "\n",
    "if __name__ == \"__main__\":\n",
    "  parser = argparse.ArgumentParser()\n",
    "  parser.add_argument(\"--ip\",\n",
    "      default=\"127.0.0.1\", help=\"The ip to listen on\")\n",
    "  parser.add_argument(\"--port\",\n",
    "      type=int, default=5005, help=\"The port to listen on\")\n",
    "  args = parser.parse_args()\n",
    "\n",
    "  dispatcher = Dispatcher()\n",
    "  dispatcher.map(\"/filter\", print)\n",
    "  dispatcher.map(\"/volume\", print_volume_handler, \"Volume\")\n",
    "  dispatcher.map(\"/logvolume\", print_compute_handler, \"Log volume\", math.log)\n",
    "\n",
    "  server = osc_server.ThreadingOSCUDPServer(\n",
    "      (args.ip, args.port), dispatcher)\n",
    "  print(\"Serving on {}\".format(server.server_address))\n",
    "  server.serve_forever()"
   ],
   "outputs": [
    {
     "name": "stderr",
     "output_type": "stream",
     "text": [
      "usage: ipykernel_launcher.py [-h] [--ip IP] [--port PORT]\n",
      "ipykernel_launcher.py: error: unrecognized arguments: -f /home/reini/.local/share/jupyter/runtime/kernel-ef77dd46-193f-43a6-89fb-6ce6b8d92dac.json\n"
     ]
    },
    {
     "ename": "SystemExit",
     "evalue": "2",
     "output_type": "error",
     "traceback": [
      "An exception has occurred, use %tb to see the full traceback.\n",
      "\u001B[0;31mSystemExit\u001B[0m\u001B[0;31m:\u001B[0m 2\n"
     ]
    },
    {
     "name": "stderr",
     "output_type": "stream",
     "text": [
      "/home/reini/PycharmProjects/AMPEVock_MuteButton/.venv/lib/python3.12/site-packages/IPython/core/interactiveshell.py:3585: UserWarning: To exit: use 'exit', 'quit', or Ctrl-D.\n",
      "  warn(\"To exit: use 'exit', 'quit', or Ctrl-D.\", stacklevel=1)\n"
     ]
    }
   ],
   "execution_count": 1
  },
  {
   "metadata": {},
   "cell_type": "markdown",
   "source": "## OSC Client",
   "id": "df2f5e4ebcad2db"
  },
  {
   "metadata": {
    "jupyter": {
     "is_executing": true
    }
   },
   "cell_type": "code",
   "source": [
    "\"\"\"Small example OSC client\n",
    "\n",
    "This program sends 10 random values between 0.0 and 1.0 to the /filter address,\n",
    "waiting for 1 seconds between each value.\n",
    "\"\"\"\n",
    "import argparse\n",
    "import random\n",
    "import time\n",
    "\n",
    "from pythonosc import udp_client\n",
    "\n",
    "\n",
    "if __name__ == \"__main__\":\n",
    "  parser = argparse.ArgumentParser()\n",
    "  parser.add_argument(\"--ip\", default=\"127.0.0.1\",\n",
    "      help=\"The ip of the OSC server\")\n",
    "  parser.add_argument(\"--port\", type=int, default=5005,\n",
    "      help=\"The port the OSC server is listening on\")\n",
    "  args = parser.parse_args()\n",
    "\n",
    "  client = udp_client.SimpleUDPClient(args.ip, args.port)\n",
    "\n",
    "  for x in range(10):\n",
    "    client.send_message(\"/filter\", random.random())\n",
    "    time.sleep(1)"
   ],
   "id": "7e55591814ec7335",
   "outputs": [],
   "execution_count": null
  },
  {
   "metadata": {},
   "cell_type": "markdown",
   "source": "## Reini Class Test Clientimport argparse\n",
   "id": "97cd6766c5db2cf4"
  },
  {
   "metadata": {
    "ExecuteTime": {
     "end_time": "2024-09-19T16:41:16.457657Z",
     "start_time": "2024-09-19T16:41:16.447275Z"
    }
   },
   "cell_type": "code",
   "source": [
    "import argparse\n",
    "from pythonosc import udp_client\n",
    "\n",
    "class OSCClient:\n",
    "\n",
    "    def __init__(self, ip: str = \"127.0.0.1\", port: int = 5005):\n",
    "        self.ip = ip\n",
    "        self.port = port\n",
    "        \n",
    "\n",
    "        parser = argparse.ArgumentParser()\n",
    "        parser.add_argument(\"--ip\", default=ip, help=\"IP address of OSC server\")\n",
    "        parser.add_argument(\"--port\", default=port, type=int, help=\"Port of OSC server\")\n",
    "        args = parser.parse_args()\n",
    "\n",
    "        self.client = udp_client.SimpleUDPClient(args.ip, args.port)\n",
    "\n",
    "    def send_message(self, address: str, message: str):\n",
    "        self.client.send_message(address, message)\n",
    "\n",
    "if __name__ == '__main__':\n",
    "\n",
    "    oscclient = OSCClient()\n",
    "\n",
    "    oscclient.send_message(address=\"/ip\", message=\"Hello World\")\n"
   ],
   "id": "cb497ee380b81b94",
   "outputs": [
    {
     "name": "stderr",
     "output_type": "stream",
     "text": [
      "usage: ipykernel_launcher.py [-h] [--ip IP] [--port PORT]\n",
      "ipykernel_launcher.py: error: unrecognized arguments: -f /home/reini/.local/share/jupyter/runtime/kernel-ef77dd46-193f-43a6-89fb-6ce6b8d92dac.json\n"
     ]
    },
    {
     "ename": "SystemExit",
     "evalue": "2",
     "output_type": "error",
     "traceback": [
      "An exception has occurred, use %tb to see the full traceback.\n",
      "\u001B[0;31mSystemExit\u001B[0m\u001B[0;31m:\u001B[0m 2\n"
     ]
    },
    {
     "name": "stderr",
     "output_type": "stream",
     "text": [
      "/home/reini/PycharmProjects/AMPEVock_MuteButton/.venv/lib/python3.12/site-packages/IPython/core/interactiveshell.py:3585: UserWarning: To exit: use 'exit', 'quit', or Ctrl-D.\n",
      "  warn(\"To exit: use 'exit', 'quit', or Ctrl-D.\", stacklevel=1)\n"
     ]
    }
   ],
   "execution_count": 3
  },
  {
   "metadata": {},
   "cell_type": "markdown",
   "source": "## Building Bundles Test",
   "id": "78599bb2360b99f0"
  },
  {
   "metadata": {
    "ExecuteTime": {
     "end_time": "2024-09-19T16:35:42.567159Z",
     "start_time": "2024-09-19T16:35:42.552324Z"
    }
   },
   "cell_type": "code",
   "source": [
    "from pythonosc import osc_bundle_builder\n",
    "from pythonosc import osc_message_builder\n",
    "\n",
    "bundle = osc_bundle_builder.OscBundleBuilder(\n",
    "    osc_bundle_builder.IMMEDIATELY)\n",
    "msg = osc_message_builder.OscMessageBuilder(address=\"/SYNC\")\n",
    "msg.add_arg(4.0)\n",
    "# Add 4 messages in the bundle, each with more arguments.\n",
    "bundle.add_content(msg.build())\n",
    "msg.add_arg(2)\n",
    "bundle.add_content(msg.build())\n",
    "msg.add_arg(\"value\")\n",
    "bundle.add_content(msg.build())\n",
    "msg.add_arg(b\"\\x01\\x02\\x03\")\n",
    "bundle.add_content(msg.build())\n",
    "\n",
    "sub_bundle = bundle.build()\n",
    "# Now add the same bundle inside itself.\n",
    "bundle.add_content(sub_bundle)\n",
    "# The bundle has 5 elements in total now.\n",
    "\n",
    "bundle = bundle.build()\n",
    "# You can now send it via a client as described in other examples."
   ],
   "id": "ede86d391215d0a9",
   "outputs": [],
   "execution_count": 1
  }
 ],
 "metadata": {
  "kernelspec": {
   "display_name": "Python 3",
   "language": "python",
   "name": "python3"
  },
  "language_info": {
   "codemirror_mode": {
    "name": "ipython",
    "version": 2
   },
   "file_extension": ".py",
   "mimetype": "text/x-python",
   "name": "python",
   "nbconvert_exporter": "python",
   "pygments_lexer": "ipython2",
   "version": "2.7.6"
  }
 },
 "nbformat": 4,
 "nbformat_minor": 5
}
